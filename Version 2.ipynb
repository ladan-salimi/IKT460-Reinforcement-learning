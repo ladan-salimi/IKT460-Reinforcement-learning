{
 "cells": [
  {
   "cell_type": "code",
   "execution_count": null,
   "id": "ff60a592-8c63-46eb-813c-493909515de4",
   "metadata": {},
   "outputs": [],
   "source": [
    "#This is ppo implementation with our custom env and the same with reinforce in terms of reward function:"
   ]
  },
  {
   "cell_type": "markdown",
   "id": "adae46ad-99ff-40ed-abe5-78517bbafb7d",
   "metadata": {},
   "source": [
    "Part 0: Input Dataset"
   ]
  },
  {
   "cell_type": "code",
   "execution_count": 7,
   "id": "79f8db9c-d7f6-4e23-82c8-ebeac92d61e8",
   "metadata": {},
   "outputs": [
    {
     "name": "stdout",
     "output_type": "stream",
     "text": [
      "finish\n"
     ]
    }
   ],
   "source": [
    "import pandas as pd\n",
    "import numpy as np\n",
    "import random\n",
    "import torch\n",
    "import torch.nn as nn\n",
    "import torch.optim as optim\n",
    "import matplotlib.pyplot as plt\n",
    "\n",
    "# ==== Load Animal Dataset ====\n",
    "import pandas as pd\n",
    "\n",
    "df = pd.read_excel('knowledge_base1.xlsx')\n",
    "FEATURES = [\"Hair\", \"Feathers\", \"Eggs\", \"Milk\", \"Airborne\", \"Aquatic\", \"Predator\", \"Toothed\",\n",
    "            \"Backbone\", \"Breathes\", \"Venomous\", \"Fins\", \"Nlegs_0\", \"Nlegs_2\", \"Nlegs_4\",\n",
    "            \"Nlegs_5\", \"Nlegs_6\", \"Nlegs_8\", \"Tail\", \"Domestic\", \"Catsize\",\n",
    "            \"Mammal\", \"Bird\", \"Reptile\", \"Fish\", \"Amphibian\", \"Insect\", \"Invertebrate\"]\n",
    "\n",
    "animal_features = df.iloc[:, 1:].values  # Exclude animal name column\n",
    "\n",
    "print('finish')"
   ]
  },
  {
   "cell_type": "markdown",
   "id": "bf708561-e374-41cf-848c-9d4892a15faa",
   "metadata": {},
   "source": [
    "Part 1: Game Logic (TwentyQGame)"
   ]
  },
  {
   "cell_type": "code",
   "execution_count": 4,
   "id": "19f2dc60-f68a-4e6a-aa33-f627f42afac7",
   "metadata": {},
   "outputs": [],
   "source": [
    "import numpy as np\n",
    "import random\n",
    "\n",
    "class Animal20QEnv:\n",
    "    def __init__(self, animal_features, max_steps=20):\n",
    "        self.animal_features = animal_features  # Full dataset of animal-feature matrix\n",
    "        self.num_animals = len(animal_features)\n",
    "        self.num_features = animal_features.shape[1]\n",
    "        self.max_steps = max_steps\n",
    "\n",
    "    def reset(self):\n",
    "        self.target_idx = random.randint(0, self.num_animals - 1)\n",
    "        self.remaining_animals = list(range(self.num_animals))  # Start with all animals\n",
    "        self.asked_features = set()\n",
    "        self.steps = 0\n",
    "        self.state = np.zeros(self.num_features, dtype=np.float32)  # Initial state: unanswered\n",
    "        return self.state\n",
    "\n",
    "    def step(self, feature_idx):\n",
    "        previous_remaining = len(self.remaining_animals)\n",
    "\n",
    "        # Get the target animal's answer for the feature\n",
    "        answer = self.animal_features[self.target_idx][feature_idx]\n",
    "\n",
    "        # Filter remaining animals by matching the answer\n",
    "        new_remaining = [\n",
    "            idx for idx in self.remaining_animals\n",
    "            if self.animal_features[idx][feature_idx] == answer\n",
    "        ]\n",
    "        self.remaining_animals = new_remaining\n",
    "\n",
    "        # Update state vector\n",
    "        self.state[feature_idx] = answer\n",
    "        self.steps += 1\n",
    "        done = self.steps >= self.max_steps\n",
    "\n",
    "        # --- Reward calculation ---\n",
    "        eliminated = previous_remaining - len(self.remaining_animals)\n",
    "        reward = eliminated\n",
    "\n",
    "        if eliminated >= 10:\n",
    "            reward += 10  # Bonus for strong elimination\n",
    "\n",
    "        if feature_idx in self.asked_features:\n",
    "            reward -= 5  # Penalty for repetition\n",
    "        else:\n",
    "            self.asked_features.add(feature_idx)\n",
    "\n",
    "        # Final step: make a guess\n",
    "        if done:\n",
    "            guessed_idx = self.guess_animal()\n",
    "            if guessed_idx == self.target_idx:\n",
    "                reward += 50  # Correct guess\n",
    "            else:\n",
    "                reward -= 10  # Incorrect guess\n",
    "\n",
    "        return self.state.copy(), reward, done\n",
    "\n",
    "    def guess_animal(self):\n",
    "        \"\"\"Make a guess based on current state using cosine similarity.\"\"\"\n",
    "        if np.all(self.state == 0):\n",
    "            return random.choice(self.remaining_animals)  # No info yet, random guess\n",
    "        match_scores = self.animal_features @ self.state\n",
    "        return np.argmax(match_scores)\n"
   ]
  },
  {
   "cell_type": "markdown",
   "id": "c93c728c-54e3-4d2f-910c-4f546dfd7b46",
   "metadata": {},
   "source": [
    "Part 2: PPO Agent"
   ]
  },
  {
   "cell_type": "code",
   "execution_count": 5,
   "id": "bfbd91ff-e667-4874-bfd1-303607b60908",
   "metadata": {},
   "outputs": [],
   "source": [
    "class ActorCritic(nn.Module):\n",
    "    def __init__(self, state_dim, action_dim):\n",
    "        super().__init__()\n",
    "        self.shared = nn.Sequential(\n",
    "            nn.Linear(state_dim, 128), nn.ReLU(),\n",
    "            nn.Linear(128, 128), nn.ReLU())\n",
    "        self.actor = nn.Linear(128, action_dim)\n",
    "        self.critic = nn.Linear(128, 1)\n",
    "\n",
    "    def forward(self, x):\n",
    "        shared = self.shared(x)\n",
    "        return self.actor(shared), self.critic(shared)\n",
    "\n",
    "class PPO:\n",
    "    def __init__(self, state_dim, action_dim):\n",
    "        self.model = ActorCritic(state_dim, action_dim)\n",
    "        self.optimizer = optim.Adam(self.model.parameters(), lr=1e-3)\n",
    "        self.gamma = 0.99\n",
    "        self.eps_clip = 0.2\n",
    "\n",
    "    def select_action(self, state):\n",
    "        state = torch.tensor(state, dtype=torch.float32).unsqueeze(0)\n",
    "        logits, _ = self.model(state)\n",
    "        probs = torch.softmax(logits, dim=-1)\n",
    "        dist = torch.distributions.Categorical(probs)\n",
    "        action = dist.sample()\n",
    "        return action.item(), dist.log_prob(action)\n",
    "\n",
    "    def train_step(self, states, actions, rewards, log_probs, next_states, dones):\n",
    "        states = torch.tensor(states, dtype=torch.float32)\n",
    "        actions = torch.tensor(actions)\n",
    "        rewards = torch.tensor(rewards, dtype=torch.float32)\n",
    "        log_probs = torch.stack(log_probs)\n",
    "        dones = torch.tensor(dones, dtype=torch.float32)\n",
    "\n",
    "        _, next_values = self.model(torch.tensor(next_states, dtype=torch.float32))\n",
    "        _, values = self.model(states)\n",
    "        values = values.squeeze()\n",
    "        next_values = next_values.squeeze()\n",
    "\n",
    "        returns = rewards + self.gamma * next_values * (1 - dones)\n",
    "        advantages = returns - values\n",
    "\n",
    "        new_logits, _ = self.model(states)\n",
    "        new_probs = torch.softmax(new_logits, dim=-1)\n",
    "        new_dist = torch.distributions.Categorical(new_probs)\n",
    "        new_log_probs = new_dist.log_prob(actions)\n",
    "\n",
    "        ratio = torch.exp(new_log_probs - log_probs.detach())\n",
    "        surr1 = ratio * advantages\n",
    "        surr2 = torch.clamp(ratio, 1 - self.eps_clip, 1 + self.eps_clip) * advantages\n",
    "        loss = -torch.min(surr1, surr2).mean() + (returns - values).pow(2).mean()\n",
    "\n",
    "        self.optimizer.zero_grad()\n",
    "        loss.backward()\n",
    "        self.optimizer.step()\n"
   ]
  },
  {
   "cell_type": "markdown",
   "id": "d9079e06-c627-4f76-94f7-8e3154160861",
   "metadata": {},
   "source": [
    "Part 3: Training Loop with Success Rate and Question Log"
   ]
  },
  {
   "cell_type": "code",
   "execution_count": 8,
   "id": "4a681928-1e14-4c50-ba44-eb94dc5d19f2",
   "metadata": {},
   "outputs": [
    {
     "name": "stderr",
     "output_type": "stream",
     "text": [
      "/tmp/ipykernel_2732494/1150451683.py:30: UserWarning: Creating a tensor from a list of numpy.ndarrays is extremely slow. Please consider converting the list to a single numpy.ndarray with numpy.array() before converting to a tensor. (Triggered internally at /pytorch/torch/csrc/utils/tensor_new.cpp:254.)\n",
      "  states = torch.tensor(states, dtype=torch.float32)\n"
     ]
    },
    {
     "name": "stdout",
     "output_type": "stream",
     "text": [
      "Episode 50, Average Success Rate: 0.30\n",
      "Episode 100, Average Success Rate: 0.22\n",
      "Episode 150, Average Success Rate: 0.24\n",
      "Episode 200, Average Success Rate: 0.20\n",
      "Episode 250, Average Success Rate: 0.24\n",
      "Episode 300, Average Success Rate: 0.26\n",
      "Episode 350, Average Success Rate: 0.28\n",
      "Episode 400, Average Success Rate: 0.16\n",
      "Episode 450, Average Success Rate: 0.04\n",
      "Episode 500, Average Success Rate: 0.16\n",
      "Episode 550, Average Success Rate: 0.12\n",
      "Episode 600, Average Success Rate: 0.14\n",
      "Episode 650, Average Success Rate: 0.14\n",
      "Episode 700, Average Success Rate: 0.12\n",
      "Episode 750, Average Success Rate: 0.18\n",
      "Episode 800, Average Success Rate: 0.14\n",
      "Episode 850, Average Success Rate: 0.18\n",
      "Episode 900, Average Success Rate: 0.14\n",
      "Episode 950, Average Success Rate: 0.12\n",
      "Episode 1000, Average Success Rate: 0.16\n"
     ]
    },
    {
     "data": {
      "image/png": "[encoded data removed]",
      "text/plain": [
       "<Figure size 640x480 with 1 Axes>"
      ]
     },
     "metadata": {},
     "output_type": "display_data"
    }
   ],
   "source": [
    "env = Animal20QEnv(animal_features=animal_features)\n",
    "ppo = PPO(state_dim=NUM_FEATURES, action_dim=NUM_FEATURES)\n",
    "\n",
    "episodes = 1000\n",
    "success_log = []\n",
    "\n",
    "for ep in range(episodes):\n",
    "    state = env.reset()\n",
    "    done = False\n",
    "    total_reward = 0\n",
    "    log_probs = []\n",
    "    states = []\n",
    "    actions = []\n",
    "    rewards = []\n",
    "    next_states = []\n",
    "    dones = []\n",
    "\n",
    "    while not done:\n",
    "        action, log_prob = ppo.select_action(state)\n",
    "        next_state, reward, done = env.step(action)\n",
    "\n",
    "        states.append(state)\n",
    "        actions.append(action)\n",
    "        rewards.append(reward)\n",
    "        next_states.append(next_state)\n",
    "        dones.append(done)\n",
    "        log_probs.append(log_prob)\n",
    "\n",
    "        state = next_state\n",
    "        total_reward += reward\n",
    "\n",
    "    ppo.train_step(states, actions, rewards, log_probs, next_states, dones)\n",
    "    success = int(env.guess_animal() == env.target_idx)\n",
    "    success_log.append(success)\n",
    "\n",
    "    if (ep + 1) % 50 == 0:\n",
    "        avg_success = np.mean(success_log[-50:])\n",
    "        print(f\"Episode {ep + 1}, Average Success Rate: {avg_success:.2f}\")\n",
    "\n",
    "# ==== Plot Success Rate ====\n",
    "plt.plot(np.convolve(success_log, np.ones(50)/50, mode='valid'))\n",
    "plt.xlabel(\"Episode\")\n",
    "plt.ylabel(\"Success Rate (50-ep avg)\")\n",
    "plt.title(\"PPO Success Rate on Animal 20Q\")\n",
    "plt.grid(True)\n",
    "plt.show()"
   ]
  },
  {
   "cell_type": "code",
   "execution_count": null,
   "id": "91de68b5-16ec-4734-bd25-597eaa2d12d7",
   "metadata": {},
   "outputs": [],
   "source": []
  },
  {
   "cell_type": "code",
   "execution_count": null,
   "id": "28b356ca-7176-47bf-9db9-f9a24f1b2bbb",
   "metadata": {},
   "outputs": [],
   "source": []
  }
 ],
 "metadata": {
  "kernelspec": {
   "display_name": "Python 3 (ipykernel)",
   "language": "python",
   "name": "python3"
  },
  "language_info": {
   "codemirror_mode": {
    "name": "ipython",
    "version": 3
   },
   "file_extension": ".py",
   "mimetype": "text/x-python",
   "name": "python",
   "nbconvert_exporter": "python",
   "pygments_lexer": "ipython3",
   "version": "3.11.6"
  }
 },
 "nbformat": 4,
 "nbformat_minor": 5
}
